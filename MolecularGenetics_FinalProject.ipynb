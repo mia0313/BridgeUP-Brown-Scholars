{
 "cells": [
  {
   "cell_type": "markdown",
   "metadata": {},
   "source": [
    "# Unit 3 Final Projects: Calculating evolutionary distance\n",
    "\n",
    "In this notebook you will compare the sequence of a particular gene from 3 different species to find out which two are most closely related. \n",
    "\n",
    "You will need to do the following:\n",
    "1. Open and read in your files\n",
    "2. Decide which sequences to compare (DNA, RNA, or protein)\n",
    "3. Write code that prints out the percent similarity of each pair of sequences"
   ]
  },
  {
   "cell_type": "code",
   "execution_count": 97,
   "metadata": {},
   "outputs": [
    {
     "name": "stdout",
     "output_type": "stream",
     "text": [
      "1140\n"
     ]
    }
   ],
   "source": [
    "manatee_dna = open(\"4a_CYTB_DNA.txt\").read()\n",
    "print(len(manatee_dna))"
   ]
  },
  {
   "cell_type": "code",
   "execution_count": 98,
   "metadata": {},
   "outputs": [
    {
     "name": "stdout",
     "output_type": "stream",
     "text": [
      "1140\n"
     ]
    }
   ],
   "source": [
    "dolphin_dna = open(\"4b_CYTB_DNA.txt\").read()\n",
    "print(len(dolphin_dna))"
   ]
  },
  {
   "cell_type": "code",
   "execution_count": 99,
   "metadata": {},
   "outputs": [
    {
     "name": "stdout",
     "output_type": "stream",
     "text": [
      "1140\n"
     ]
    }
   ],
   "source": [
    "cow_dna= open(\"4c_CYTB_DNA.txt\").read()\n",
    "print(len(cow_dna))"
   ]
  },
  {
   "cell_type": "code",
   "execution_count": 53,
   "metadata": {},
   "outputs": [
    {
     "name": "stdout",
     "output_type": "stream",
     "text": [
      "76.49122807017544\n"
     ]
    }
   ],
   "source": [
    "#comparing DNA\n",
    "\n",
    "differences = 0\n",
    "\n",
    "for i,base in enumerate(manatee_dna):\n",
    "    if dolphin_dna[i] != base:\n",
    "        differences += 1\n",
    "        \n",
    "man_dol = ((len(manatee_dna)-differences)/len(manatee_dna)*100)\n",
    "print(man_dol)"
   ]
  },
  {
   "cell_type": "code",
   "execution_count": 45,
   "metadata": {},
   "outputs": [
    {
     "name": "stdout",
     "output_type": "stream",
     "text": [
      "76.05263157894737\n"
     ]
    }
   ],
   "source": [
    "differences = 0\n",
    "\n",
    "for i,base in enumerate(manatee_dna):\n",
    "    if cow_dna[i] != base:\n",
    "        differences += 1\n",
    "        \n",
    "man_cow = ((len(cow_dna)-differences)/len(cow_dna)*100)\n",
    "print(man_cow)"
   ]
  },
  {
   "cell_type": "code",
   "execution_count": 46,
   "metadata": {},
   "outputs": [
    {
     "name": "stdout",
     "output_type": "stream",
     "text": [
      "79.21052631578948\n"
     ]
    }
   ],
   "source": [
    "differences = 0\n",
    "\n",
    "for i,base in enumerate(cow_dna):\n",
    "    if dolphin_dna[i] != base:\n",
    "        differences += 1\n",
    "        \n",
    "cow_dol = ((len(cow_dna)-differences)/len(cow_dna)*100)\n",
    "print(cow_dol)"
   ]
  },
  {
   "cell_type": "markdown",
   "metadata": {},
   "source": [
    "## Bonus Challenge\n",
    "\n",
    "Visualize your results! Choose a graph type that you think will communicate your conclusions effectively and create it using matplotlib:"
   ]
  },
  {
   "cell_type": "code",
   "execution_count": 62,
   "metadata": {},
   "outputs": [
    {
     "data": {
      "image/png": "[encoded data removed]",
      "text/plain": [
       "<Figure size 432x288 with 1 Axes>"
      ]
     },
     "metadata": {
      "needs_background": "light"
     },
     "output_type": "display_data"
    }
   ],
   "source": [
    "import matplotlib.pyplot as plt\n",
    "plt.bar([1,2,3], \n",
    "        [ man_cow, man_dol, cow_dol], \n",
    "        color = [\"indianred\", \"mediumaquamarine\", \"cornflowerblue\"])\n",
    "plt.ylim(75,80)\n",
    "plt.title(\"Percent Similarities in DNA of Different Animals\")\n",
    "plt.xticks([1,2,3], \n",
    "           [\"Manatee vs Dolphin\", \"Cow vs Manatee\", \"Dolphin vs Cow\"])\n",
    "plt.ylabel(\"Percentage Similarity\")\n",
    "plt.show()"
   ]
  },
  {
   "cell_type": "code",
   "execution_count": 60,
   "metadata": {},
   "outputs": [
    {
     "name": "stdout",
     "output_type": "stream",
     "text": [
      "Cow proteins: YXLXAFRVGDYFXHLLRKXLEGWGSLXSSTTLKPREDPXTDXDVXECPDKDRYVMCRLCCCRKRRQWVXTALHLMPTXXAMYVRLPRSYKKXTNIYVHPAPNIIPRMXKDLCTLXPHXEDECHYRCRKYPMQDGTPVYSKTPRCQXWLENSRXGMXPCLNQLTXTPPKSHLFRWEWAKKRKVKXEGKXXYRXRYQVDNKEVLCPRLLGCPXRSLHLFXGKVGMIWXFLXNPRENDXDRDYDDHDKRGLEEPLGLLMWGRLGELCGGVXFGLTMKNKRMRXNASXGLFDPPHDRDRKRXDXERDXGDDVWRFVASYYKAGESVTDKTRDHRLDDCECTXPPVGQLVGIXWXPVDRRXDMKEEXDHDYGCRPCQLLFNDFT\n",
      "Manatee proteins: SYWLXAFSVGDXFXNLLRKXLNGXGCLXSSTTLKPSDEPRTDXXVXECPNKDRYVMCSLCDWRKRSHRVXTALQLIPTXXAMEVRLPRSYKKDTEMRVXPAPXIMPRMNISLWTLXPXXDDECXYRWRKYPMQEGTPVYSKTPRXHXWLEDSRXGMXPWLDHLTQTPPKSHLFRWEWAKKRNVKWDGKQHWRDHRQVEDKEVLCPRLLGCPDXRLRLFXGKVGMMSXFLEDPDKEEXDXDEDDWNKRGLYNPLGLLMCGRLGDSWGGVXFGLTMKDKRMRXEARXGLFDPPQNRDQERXDXDREEGEEVCRFVASDNKAGDSVTDKTXDHWLDXCECTXPPVGQLVGMXQXPVDRSXDMKRXXEXKYGXRPDXLLVEEFT\n",
      "Dolphin proteins: SYWLXAFCVGDYFXELLRKXLDGXGRLXRRTTLKPRNDPETDXYVXDCPDKDRYVMCGLWSXRKSSQRVXTALQLIPTKXAINVRLPRRYKKXTDMRVXPAPDMIPRIYKVLCTLXPHENDDCQYRXRKHPMQDGTPVYSKTPRWQXWLENSRXGIXPXWNQLTXTPPKRHLFRCNCAKKRKVKXEGKXXCRNRRQVDDKDVLCPRLLGCPXGRLYLYXGKVGIMCXFLXDPRNEDXNWDDRDWDKXGLDDPLGLLIWGRLGDSWGRVXFGLTMKDKRMRXNASXGLFEPPQDRDDERXEXDXKXGYEVCRFVASYYKAGKSVEDKTWDXRLENWNCTXPPVGHLVGIXXHPVNRRXDMKENXDHDYGCRPEXLLFEDFT\n"
     ]
    }
   ],
   "source": [
    "#transcription\n",
    "\n",
    "BaseDict = {\"A\":\"U\",\"T\":\"A\", \"G\":\"C\", \"C\":\"G\"}\n",
    "\n",
    "cowRNA = []\n",
    "for i in cow_dna:\n",
    "    cowRNA.append(BaseDict[i])\n",
    "    \n",
    "dolphinRNA = []\n",
    "for i in dolphin_dna:\n",
    "    dolphinRNA.append(BaseDict[i])\n",
    "    \n",
    "manateeRNA = []\n",
    "for i in manatee_dna:\n",
    "    manateeRNA.append(BaseDict[i])\n",
    "    \n",
    "#translation\n",
    "#replaced stop codon with 'x'\n",
    "AminoDict = {\"UUU\":\"F\", \"UUC\":\"F\", \"UUA\":\"L\", \"UUG\":\"L\", \"CUU\":\"L\", \"CUC\":\"L\", \"CUA\":\"L\",\n",
    "                  \"CUG\":\"L\",\"AUU\":\"I\",\"AUC\":\"I\",\"AUA\":\"I\",\"AUG\":\"M\",\"GUU\":\"V\",\"GUC\":\"V\",\"GUA\":\"V\",\n",
    "                  \"GUG\":\"V\",\"UCU\":\"S\",\"UCC\":\"S\",\"UCA\":\"S\", \"UCG\":\"S\", \"CCU\":\"P\",\"CCC\":\"P\",\"CCA\":\"P\",\n",
    "                  \"CCG\":\"P\",\"ACU\":\"T\",\"ACC\":\"T\",\"ACA\":\"T\",\"ACG\":\"T\",\"GCU\":\"A\",\"GCC\":\"A\",\"GCA\":\"A\",\n",
    "                  \"GCG\":\"A\", \"UAU\": \"Y\", \"UAC\": \"Y\",\"UAA\": \"X\", \"UAG\": \"X\", \"CAU\": \"H\",\n",
    "                  \"CAC\": \"H\", \"CAA\": \"Q\", \"CAG\": \"Q\", \"AAU\": \"N\", \"AAC\": \"N\",\"AAA\": \"K\", \"AAG\": \"K\",\n",
    "                  \"GAU\":\"D\", \"GAC\": \"D\", \"GAA\":\"E\", \"GAG\":\"E\", \"UGU\":\"C\",\"UGC\":\"C\", \"UGA\":\"X\",\n",
    "                  \"UGG\":\"W\", \"CGU\":\"R\", \"CGC\":\"R\", \"CGA\":\"R\", \"CGG\":\"R\", \"AGU\":\"S\", \"AGC\":\"S\", \"AGA\":\"R\",\n",
    "                  \"AGG\":\"R\", \"GGU\":\"G\", \"GGC\":\"G\", \"GGA\":\"G\", \"GGG\":\"G\"}\n",
    "\n",
    "cow_proteins = \"\"\n",
    "codon = \"\"\n",
    "\n",
    "for i in cowRNA: \n",
    "    if len(codon) == 3:\n",
    "        cow_proteins += AminoDict[codon]  \n",
    "        codon = \"\"\n",
    "        codon += i\n",
    "    else: \n",
    "        codon += i\n",
    "        \n",
    "print(\"Cow proteins: \" + cow_proteins)\n",
    "\n",
    "man_proteins = \"\"\n",
    "codon2 = \"\"\n",
    "\n",
    "for i in manateeRNA: \n",
    "    if len(codon) == 3:\n",
    "        man_proteins += AminoDict[codon]  \n",
    "        codon = \"\"\n",
    "        codon += i\n",
    "    else: \n",
    "        codon += i\n",
    "        \n",
    "print(\"Manatee proteins: \" + man_proteins)\n",
    "\n",
    "dol_proteins = \"\"\n",
    "codon3 = \"\"\n",
    "\n",
    "for i in dolphinRNA: \n",
    "    if len(codon) == 3:\n",
    "        dol_proteins += AminoDict[codon]  \n",
    "        codon = \"\"\n",
    "        codon += i\n",
    "    else: \n",
    "        codon += i\n",
    "        \n",
    "print(\"Dolphin proteins: \" + dol_proteins)"
   ]
  },
  {
   "cell_type": "code",
   "execution_count": 82,
   "metadata": {},
   "outputs": [
    {
     "name": "stdout",
     "output_type": "stream",
     "text": [
      "75.8\n"
     ]
    }
   ],
   "source": [
    "#comparing protein structure\n",
    "similarities = 0\n",
    "\n",
    "for i,aminoacid in enumerate(cow_proteins):\n",
    "    if dol_proteins[i] == aminoacid:\n",
    "        similarities += 1\n",
    "\n",
    "aminoacids = (len(cow_proteins)/100)* similarities\n",
    "print(aminoacids)"
   ]
  },
  {
   "cell_type": "code",
   "execution_count": 83,
   "metadata": {},
   "outputs": [
    {
     "name": "stdout",
     "output_type": "stream",
     "text": [
      "87.17\n"
     ]
    }
   ],
   "source": [
    "similarities = 0\n",
    "\n",
    "for i,aminoacid in enumerate(cow_proteins):\n",
    "    if man_proteins[i] == aminoacid:\n",
    "        similarities += 1\n",
    "\n",
    "aminoacids2 = (len(cow_proteins)/100)* similarities\n",
    "print(aminoacids2)"
   ]
  },
  {
   "cell_type": "code",
   "execution_count": 85,
   "metadata": {},
   "outputs": [
    {
     "name": "stdout",
     "output_type": "stream",
     "text": [
      "67.89473684210526\n"
     ]
    }
   ],
   "source": [
    "similarities = 0\n",
    "\n",
    "for i,aminoacid in enumerate(man_proteins):\n",
    "    if dol_proteins[i] == aminoacid:\n",
    "        similarities += 1\n",
    "\n",
    "aminoacids3 = (similarities * 100)/len(man_proteins)\n",
    "print(aminoacids3)"
   ]
  },
  {
   "cell_type": "code",
   "execution_count": 88,
   "metadata": {},
   "outputs": [
    {
     "data": {
      "image/png": "[encoded data removed]",
      "text/plain": [
       "<Figure size 432x288 with 1 Axes>"
      ]
     },
     "metadata": {
      "needs_background": "light"
     },
     "output_type": "display_data"
    }
   ],
   "source": [
    "import matplotlib.pyplot as plt\n",
    "plt.bar([1,2,3], [aminoacids3, aminoacids, aminoacids2], color = [\"indianred\", \"mediumaquamarine\", \"cornflowerblue\"])\n",
    "plt.title(\"Percent Similarities of Protein Structures of Different Animals\")\n",
    "plt.xticks([1,2,3], [\"Dolphin vs Manatee\", \"Dolphin vs Cow\", \"Cow vs Manatee\",])\n",
    "plt.ylabel(\"Percentage Similarity\")\n",
    "plt.show()"
   ]
  }
 ],
 "metadata": {
  "kernelspec": {
   "display_name": "Python 3",
   "language": "python",
   "name": "python3"
  },
  "language_info": {
   "codemirror_mode": {
    "name": "ipython",
    "version": 3
   },
   "file_extension": ".py",
   "mimetype": "text/x-python",
   "name": "python",
   "nbconvert_exporter": "python",
   "pygments_lexer": "ipython3",
   "version": "3.7.3"
  }
 },
 "nbformat": 4,
 "nbformat_minor": 2
}
